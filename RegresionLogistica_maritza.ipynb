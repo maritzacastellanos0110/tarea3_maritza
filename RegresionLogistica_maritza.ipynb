{
 "cells": [
  {
   "cell_type": "code",
   "execution_count": 2,
   "id": "96647d44-21c9-4ca3-b8ea-6fc619a885ac",
   "metadata": {},
   "outputs": [],
   "source": [
    "# Marizta Castellanos Melo UNAD_ Regresión Logística\n",
    "# 1. Realizar un análisis exploratorio de los datos para identificar \n",
    "# relaciones entre variables, valores atípicos, tendencias, etc."
   ]
  },
  {
   "cell_type": "code",
   "execution_count": 2,
   "id": "ade1c232-f9fc-4717-a48d-b0bca5cb537c",
   "metadata": {},
   "outputs": [
    {
     "name": "stdout",
     "output_type": "stream",
     "text": [
      "Requirement already satisfied: pandas in c:\\users\\maritza castellanos\\anaconda3\\lib\\site-packages (2.2.2)\n",
      "Requirement already satisfied: numpy in c:\\users\\maritza castellanos\\anaconda3\\lib\\site-packages (1.26.4)\n",
      "Requirement already satisfied: scikit-learn in c:\\users\\maritza castellanos\\anaconda3\\lib\\site-packages (1.5.1)\n",
      "Requirement already satisfied: matplotlib in c:\\users\\maritza castellanos\\anaconda3\\lib\\site-packages (3.9.2)\n",
      "Requirement already satisfied: python-dateutil>=2.8.2 in c:\\users\\maritza castellanos\\anaconda3\\lib\\site-packages (from pandas) (2.9.0.post0)\n",
      "Requirement already satisfied: pytz>=2020.1 in c:\\users\\maritza castellanos\\anaconda3\\lib\\site-packages (from pandas) (2024.1)\n",
      "Requirement already satisfied: tzdata>=2022.7 in c:\\users\\maritza castellanos\\anaconda3\\lib\\site-packages (from pandas) (2023.3)\n",
      "Requirement already satisfied: scipy>=1.6.0 in c:\\users\\maritza castellanos\\anaconda3\\lib\\site-packages (from scikit-learn) (1.13.1)\n",
      "Requirement already satisfied: joblib>=1.2.0 in c:\\users\\maritza castellanos\\anaconda3\\lib\\site-packages (from scikit-learn) (1.4.2)\n",
      "Requirement already satisfied: threadpoolctl>=3.1.0 in c:\\users\\maritza castellanos\\anaconda3\\lib\\site-packages (from scikit-learn) (3.5.0)\n",
      "Requirement already satisfied: contourpy>=1.0.1 in c:\\users\\maritza castellanos\\anaconda3\\lib\\site-packages (from matplotlib) (1.2.0)\n",
      "Requirement already satisfied: cycler>=0.10 in c:\\users\\maritza castellanos\\anaconda3\\lib\\site-packages (from matplotlib) (0.11.0)\n",
      "Requirement already satisfied: fonttools>=4.22.0 in c:\\users\\maritza castellanos\\anaconda3\\lib\\site-packages (from matplotlib) (4.51.0)\n",
      "Requirement already satisfied: kiwisolver>=1.3.1 in c:\\users\\maritza castellanos\\anaconda3\\lib\\site-packages (from matplotlib) (1.4.4)\n",
      "Requirement already satisfied: packaging>=20.0 in c:\\users\\maritza castellanos\\anaconda3\\lib\\site-packages (from matplotlib) (24.1)\n",
      "Requirement already satisfied: pillow>=8 in c:\\users\\maritza castellanos\\anaconda3\\lib\\site-packages (from matplotlib) (10.4.0)\n",
      "Requirement already satisfied: pyparsing>=2.3.1 in c:\\users\\maritza castellanos\\anaconda3\\lib\\site-packages (from matplotlib) (3.1.2)\n",
      "Requirement already satisfied: six>=1.5 in c:\\users\\maritza castellanos\\anaconda3\\lib\\site-packages (from python-dateutil>=2.8.2->pandas) (1.16.0)\n"
     ]
    }
   ],
   "source": [
    "#Instalamos las bibliotecas necesarias\n",
    "!pip install pandas numpy scikit-learn matplotlib"
   ]
  },
  {
   "cell_type": "code",
   "execution_count": 6,
   "id": "af355e34-0d5d-4290-ab4b-315386db5c9a",
   "metadata": {},
   "outputs": [],
   "source": [
    "#Importamos las librerías necesarias\n",
    "import numpy as np #Librerias para el cálculo numérico y el análisis de datos\n",
    "import pandas as pd #Librerias para el manejo y análisis de estructuras de datos\n",
    "import seaborn as sns #Librerias para la creación de gráficos estadísticos\n",
    "import matplotlib.pyplot as plt #Librerias para creación de gráficos en dos dimensiones\n",
    "#Librerías para implementar modelos de ciencia de datos\n",
    "from sklearn import metrics\n",
    "from sklearn.model_selection import train_test_split\n",
    "from sklearn.linear_model import LogisticRegression\n",
    "from sklearn.metrics import classification_report, confusion_matrix\n",
    "from sklearn.metrics import mean_squared_error, r2_score"
   ]
  },
  {
   "cell_type": "code",
   "execution_count": 9,
   "id": "04eccccc-4bd3-4da3-8d4d-8ee01f58a3e1",
   "metadata": {},
   "outputs": [
    {
     "name": "stdout",
     "output_type": "stream",
     "text": [
      "   age  sex  cp  trestbps  chol  fbs  restecg  thalach  exang  oldpeak  slope  \\\n",
      "0   69    1   0       160   234    1        2      131      0      0.1      1   \n",
      "1   69    0   0       140   239    0        0      151      0      1.8      0   \n",
      "2   66    0   0       150   226    0        0      114      0      2.6      2   \n",
      "3   65    1   0       138   282    1        2      174      0      1.4      1   \n",
      "4   64    1   0       110   211    0        2      144      1      1.8      1   \n",
      "5   64    1   0       170   227    0        2      155      0      0.6      1   \n",
      "6   63    1   0       145   233    1        2      150      0      2.3      2   \n",
      "7   61    1   0       134   234    0        0      145      0      2.6      1   \n",
      "8   60    0   0       150   240    0        0      171      0      0.9      0   \n",
      "9   59    1   0       178   270    0        2      145      0      4.2      2   \n",
      "\n",
      "   ca  thal  condition  \n",
      "0   1     0          0  \n",
      "1   2     0          0  \n",
      "2   0     0          0  \n",
      "3   1     0          1  \n",
      "4   0     0          0  \n",
      "5   0     2          0  \n",
      "6   0     1          0  \n",
      "7   2     0          1  \n",
      "8   0     0          0  \n",
      "9   0     2          0  \n"
     ]
    }
   ],
   "source": [
    "import pandas as pd\n",
    "\n",
    "# Cargamos el dataset \"heart_cleveland_upload\" para la regresión logística\n",
    "data = pd.read_csv('C:\\\\ANALISIS DE DATOS\\\\Anexo 3 - Dataset Heart Disease Cleveland UCI\\\\heart_cleveland_upload.csv')\n",
    "\n",
    "# Mostrar las primeras filas del dataset para entender su estructura\n",
    "print(data.head(10))\n"
   ]
  },
  {
   "cell_type": "code",
   "execution_count": 13,
   "id": "97fd7cc6-76d0-4770-a3a5-db55936790f3",
   "metadata": {},
   "outputs": [
    {
     "data": {
      "text/html": [
       "<div>\n",
       "<style scoped>\n",
       "    .dataframe tbody tr th:only-of-type {\n",
       "        vertical-align: middle;\n",
       "    }\n",
       "\n",
       "    .dataframe tbody tr th {\n",
       "        vertical-align: top;\n",
       "    }\n",
       "\n",
       "    .dataframe thead th {\n",
       "        text-align: right;\n",
       "    }\n",
       "</style>\n",
       "<table border=\"1\" class=\"dataframe\">\n",
       "  <thead>\n",
       "    <tr style=\"text-align: right;\">\n",
       "      <th></th>\n",
       "      <th>age</th>\n",
       "      <th>sex</th>\n",
       "      <th>cp</th>\n",
       "      <th>trestbps</th>\n",
       "      <th>chol</th>\n",
       "      <th>fbs</th>\n",
       "      <th>restecg</th>\n",
       "      <th>thalach</th>\n",
       "      <th>exang</th>\n",
       "      <th>oldpeak</th>\n",
       "      <th>slope</th>\n",
       "      <th>ca</th>\n",
       "      <th>thal</th>\n",
       "      <th>condition</th>\n",
       "    </tr>\n",
       "  </thead>\n",
       "  <tbody>\n",
       "    <tr>\n",
       "      <th>count</th>\n",
       "      <td>297.000000</td>\n",
       "      <td>297.000000</td>\n",
       "      <td>297.000000</td>\n",
       "      <td>297.000000</td>\n",
       "      <td>297.000000</td>\n",
       "      <td>297.000000</td>\n",
       "      <td>297.000000</td>\n",
       "      <td>297.000000</td>\n",
       "      <td>297.000000</td>\n",
       "      <td>297.000000</td>\n",
       "      <td>297.000000</td>\n",
       "      <td>297.000000</td>\n",
       "      <td>297.000000</td>\n",
       "      <td>297.000000</td>\n",
       "    </tr>\n",
       "    <tr>\n",
       "      <th>mean</th>\n",
       "      <td>54.542088</td>\n",
       "      <td>0.676768</td>\n",
       "      <td>2.158249</td>\n",
       "      <td>131.693603</td>\n",
       "      <td>247.350168</td>\n",
       "      <td>0.144781</td>\n",
       "      <td>0.996633</td>\n",
       "      <td>149.599327</td>\n",
       "      <td>0.326599</td>\n",
       "      <td>1.055556</td>\n",
       "      <td>0.602694</td>\n",
       "      <td>0.676768</td>\n",
       "      <td>0.835017</td>\n",
       "      <td>0.461279</td>\n",
       "    </tr>\n",
       "    <tr>\n",
       "      <th>std</th>\n",
       "      <td>9.049736</td>\n",
       "      <td>0.468500</td>\n",
       "      <td>0.964859</td>\n",
       "      <td>17.762806</td>\n",
       "      <td>51.997583</td>\n",
       "      <td>0.352474</td>\n",
       "      <td>0.994914</td>\n",
       "      <td>22.941562</td>\n",
       "      <td>0.469761</td>\n",
       "      <td>1.166123</td>\n",
       "      <td>0.618187</td>\n",
       "      <td>0.938965</td>\n",
       "      <td>0.956690</td>\n",
       "      <td>0.499340</td>\n",
       "    </tr>\n",
       "    <tr>\n",
       "      <th>min</th>\n",
       "      <td>29.000000</td>\n",
       "      <td>0.000000</td>\n",
       "      <td>0.000000</td>\n",
       "      <td>94.000000</td>\n",
       "      <td>126.000000</td>\n",
       "      <td>0.000000</td>\n",
       "      <td>0.000000</td>\n",
       "      <td>71.000000</td>\n",
       "      <td>0.000000</td>\n",
       "      <td>0.000000</td>\n",
       "      <td>0.000000</td>\n",
       "      <td>0.000000</td>\n",
       "      <td>0.000000</td>\n",
       "      <td>0.000000</td>\n",
       "    </tr>\n",
       "    <tr>\n",
       "      <th>25%</th>\n",
       "      <td>48.000000</td>\n",
       "      <td>0.000000</td>\n",
       "      <td>2.000000</td>\n",
       "      <td>120.000000</td>\n",
       "      <td>211.000000</td>\n",
       "      <td>0.000000</td>\n",
       "      <td>0.000000</td>\n",
       "      <td>133.000000</td>\n",
       "      <td>0.000000</td>\n",
       "      <td>0.000000</td>\n",
       "      <td>0.000000</td>\n",
       "      <td>0.000000</td>\n",
       "      <td>0.000000</td>\n",
       "      <td>0.000000</td>\n",
       "    </tr>\n",
       "    <tr>\n",
       "      <th>50%</th>\n",
       "      <td>56.000000</td>\n",
       "      <td>1.000000</td>\n",
       "      <td>2.000000</td>\n",
       "      <td>130.000000</td>\n",
       "      <td>243.000000</td>\n",
       "      <td>0.000000</td>\n",
       "      <td>1.000000</td>\n",
       "      <td>153.000000</td>\n",
       "      <td>0.000000</td>\n",
       "      <td>0.800000</td>\n",
       "      <td>1.000000</td>\n",
       "      <td>0.000000</td>\n",
       "      <td>0.000000</td>\n",
       "      <td>0.000000</td>\n",
       "    </tr>\n",
       "    <tr>\n",
       "      <th>75%</th>\n",
       "      <td>61.000000</td>\n",
       "      <td>1.000000</td>\n",
       "      <td>3.000000</td>\n",
       "      <td>140.000000</td>\n",
       "      <td>276.000000</td>\n",
       "      <td>0.000000</td>\n",
       "      <td>2.000000</td>\n",
       "      <td>166.000000</td>\n",
       "      <td>1.000000</td>\n",
       "      <td>1.600000</td>\n",
       "      <td>1.000000</td>\n",
       "      <td>1.000000</td>\n",
       "      <td>2.000000</td>\n",
       "      <td>1.000000</td>\n",
       "    </tr>\n",
       "    <tr>\n",
       "      <th>max</th>\n",
       "      <td>77.000000</td>\n",
       "      <td>1.000000</td>\n",
       "      <td>3.000000</td>\n",
       "      <td>200.000000</td>\n",
       "      <td>564.000000</td>\n",
       "      <td>1.000000</td>\n",
       "      <td>2.000000</td>\n",
       "      <td>202.000000</td>\n",
       "      <td>1.000000</td>\n",
       "      <td>6.200000</td>\n",
       "      <td>2.000000</td>\n",
       "      <td>3.000000</td>\n",
       "      <td>2.000000</td>\n",
       "      <td>1.000000</td>\n",
       "    </tr>\n",
       "  </tbody>\n",
       "</table>\n",
       "</div>"
      ],
      "text/plain": [
       "              age         sex          cp    trestbps        chol         fbs  \\\n",
       "count  297.000000  297.000000  297.000000  297.000000  297.000000  297.000000   \n",
       "mean    54.542088    0.676768    2.158249  131.693603  247.350168    0.144781   \n",
       "std      9.049736    0.468500    0.964859   17.762806   51.997583    0.352474   \n",
       "min     29.000000    0.000000    0.000000   94.000000  126.000000    0.000000   \n",
       "25%     48.000000    0.000000    2.000000  120.000000  211.000000    0.000000   \n",
       "50%     56.000000    1.000000    2.000000  130.000000  243.000000    0.000000   \n",
       "75%     61.000000    1.000000    3.000000  140.000000  276.000000    0.000000   \n",
       "max     77.000000    1.000000    3.000000  200.000000  564.000000    1.000000   \n",
       "\n",
       "          restecg     thalach       exang     oldpeak       slope          ca  \\\n",
       "count  297.000000  297.000000  297.000000  297.000000  297.000000  297.000000   \n",
       "mean     0.996633  149.599327    0.326599    1.055556    0.602694    0.676768   \n",
       "std      0.994914   22.941562    0.469761    1.166123    0.618187    0.938965   \n",
       "min      0.000000   71.000000    0.000000    0.000000    0.000000    0.000000   \n",
       "25%      0.000000  133.000000    0.000000    0.000000    0.000000    0.000000   \n",
       "50%      1.000000  153.000000    0.000000    0.800000    1.000000    0.000000   \n",
       "75%      2.000000  166.000000    1.000000    1.600000    1.000000    1.000000   \n",
       "max      2.000000  202.000000    1.000000    6.200000    2.000000    3.000000   \n",
       "\n",
       "             thal   condition  \n",
       "count  297.000000  297.000000  \n",
       "mean     0.835017    0.461279  \n",
       "std      0.956690    0.499340  \n",
       "min      0.000000    0.000000  \n",
       "25%      0.000000    0.000000  \n",
       "50%      0.000000    0.000000  \n",
       "75%      2.000000    1.000000  \n",
       "max      2.000000    1.000000  "
      ]
     },
     "execution_count": 13,
     "metadata": {},
     "output_type": "execute_result"
    }
   ],
   "source": [
    "#Visualizamos la descripción de los datos\n",
    "data.describe()"
   ]
  },
  {
   "cell_type": "code",
   "execution_count": 22,
   "id": "63621c6d-4dbb-4901-95bf-b3318a927a14",
   "metadata": {},
   "outputs": [
    {
     "data": {
      "image/png": "[encoded data removed]",
      "text/plain": [
       "<Figure size 600x300 with 1 Axes>"
      ]
     },
     "metadata": {},
     "output_type": "display_data"
    },
    {
     "data": {
      "image/png": "[encoded data removed]",
      "text/plain": [
       "<Figure size 600x300 with 1 Axes>"
      ]
     },
     "metadata": {},
     "output_type": "display_data"
    }
   ],
   "source": [
    "import pandas as pd\n",
    "import matplotlib.pyplot as plt\n",
    "import seaborn as sns\n",
    "\n",
    "# Cargamos el dataset \"heart_cleveland_upload\" para la regresión logística\n",
    "data = pd.read_csv('C:\\\\ANALISIS DE DATOS\\\\Anexo 3 - Dataset Heart Disease Cleveland UCI\\\\heart_cleveland_upload.csv')\n",
    "\n",
    "# Identificamos los datos faltantes y atípicos para la columna 'age'\n",
    "plt.figure(figsize=(6, 3))\n",
    "sns.boxplot(x=data['age'])\n",
    "plt.title('Identificación de Datos Faltantes y Atípicos - Edad', fontsize=10)\n",
    "plt.show()\n",
    "\n",
    "# Identificamos los datos faltantes y atípicos para la columna 'sex'\n",
    "plt.figure(figsize=(6, 3))\n",
    "sns.boxplot(x=data['sex'])\n",
    "plt.title('Identificación de Datos Faltantes y Atípicos - Sexo', fontsize=10)\n",
    "plt.show()\n"
   ]
  },
  {
   "cell_type": "code",
   "execution_count": 17,
   "id": "10061ead-518c-4d5b-a24f-cf3b7b7381dc",
   "metadata": {},
   "outputs": [],
   "source": [
    "#2. Preprocesar los datos limpiándolos, tratando valores faltantes y transformándolos según sea necesario"
   ]
  },
  {
   "cell_type": "code",
   "execution_count": 24,
   "id": "931fc3f6-a9f7-495b-8b11-c10d9e7e7735",
   "metadata": {},
   "outputs": [
    {
     "name": "stdout",
     "output_type": "stream",
     "text": [
      "Cantidad de Registros Vacios en AGE:  0\n",
      "Cantidad de Registros con cero en AGE:  0\n",
      "Cantidad de Registros Vacios en CP:  0\n",
      "Cantidad de Registros con cero en CP:  23\n"
     ]
    }
   ],
   "source": [
    "#Revisamos si existen datos faltantes en las columnas que seleccionamos para estudiar, \n",
    "print(\"Cantidad de Registros Vacios en AGE: \",data['age'].isnull().sum())\n",
    "print(\"Cantidad de Registros con cero en AGE: \",data['age'].isin([0]).sum())\n",
    "print(\"Cantidad de Registros Vacios en CP: \",data['cp'].isnull().sum())\n",
    "print(\"Cantidad de Registros con cero en CP: \",data['cp'].isin([0]).sum())"
   ]
  },
  {
   "cell_type": "code",
   "execution_count": 26,
   "id": "27f162b0-0ea4-4b9d-981a-ff45bf15d57d",
   "metadata": {},
   "outputs": [],
   "source": [
    "#Debido a que no hay valores nulos en las columnas, pero si ceros, reemplazamos todos los ceros con el valor medio (promedio) de la columna.\n",
    "data['cp']=data['cp'].replace(0,data['cp'].mean())"
   ]
  },
  {
   "cell_type": "code",
   "execution_count": 28,
   "id": "336386d7-11d0-4441-b2d1-baf9a36b23ae",
   "metadata": {},
   "outputs": [
    {
     "name": "stdout",
     "output_type": "stream",
     "text": [
      "Cantidad de Registros con cero en CP:  0\n"
     ]
    }
   ],
   "source": [
    "#Revisamos de nuevo las columnas detectadas\n",
    "print(\"Cantidad de Registros con cero en CP: \",data['cp'].isin([0]).sum())"
   ]
  },
  {
   "cell_type": "code",
   "execution_count": 30,
   "id": "0a8c1e46-2ba7-429c-b425-ecbc51e57859",
   "metadata": {},
   "outputs": [
    {
     "data": {
      "text/plain": [
       "Text(0.5, 1.0, 'Identificación de Datos Atípicos')"
      ]
     },
     "execution_count": 30,
     "metadata": {},
     "output_type": "execute_result"
    },
    {
     "data": {
      "image/png": "[encoded data removed]",
      "text/plain": [
       "<Figure size 600x300 with 1 Axes>"
      ]
     },
     "metadata": {},
     "output_type": "display_data"
    }
   ],
   "source": [
    "#Identificamos datos atípicos en las columnas\n",
    "plt.figure(figsize=(6, 3))\n",
    "sns.boxplot(x=data['age'])\n",
    "plt.title('Identificación de Datos Atípicos', fontsize=10 )"
   ]
  },
  {
   "cell_type": "code",
   "execution_count": 32,
   "id": "0a037273-848d-4eb9-829f-3ca192f9f8b6",
   "metadata": {},
   "outputs": [
    {
     "name": "stdout",
     "output_type": "stream",
     "text": [
      "El total de datos atípicos es 0\n",
      "El total de datos atípicos es 0\n"
     ]
    }
   ],
   "source": [
    "#Realizamos un conteo de Datos Atípicos\n",
    "#Columna age\n",
    "min_lvl=29\n",
    "max_lvl=77\n",
    "total_atp=((data['age']<min_lvl)|(data['age']>max_lvl)).sum()\n",
    "print(\"El total de datos atípicos es {}\".format(total_atp))\n",
    "#Columna cp\n",
    "min_lvl=0\n",
    "max_lvl=3\n",
    "total_atp=((data['cp']<min_lvl)|(data['cp']>max_lvl)).sum()\n",
    "print(\"El total de datos atípicos es {}\".format(total_atp))"
   ]
  },
  {
   "cell_type": "code",
   "execution_count": 34,
   "id": "86352636-ec24-4f25-ba3c-d29fb5fde392",
   "metadata": {},
   "outputs": [
    {
     "name": "stdout",
     "output_type": "stream",
     "text": [
      "<class 'pandas.core.frame.DataFrame'>\n",
      "RangeIndex: 297 entries, 0 to 296\n",
      "Data columns (total 14 columns):\n",
      " #   Column     Non-Null Count  Dtype  \n",
      "---  ------     --------------  -----  \n",
      " 0   age        297 non-null    int64  \n",
      " 1   sex        297 non-null    int64  \n",
      " 2   cp         297 non-null    float64\n",
      " 3   trestbps   297 non-null    int64  \n",
      " 4   chol       297 non-null    int64  \n",
      " 5   fbs        297 non-null    int64  \n",
      " 6   restecg    297 non-null    int64  \n",
      " 7   thalach    297 non-null    int64  \n",
      " 8   exang      297 non-null    int64  \n",
      " 9   oldpeak    297 non-null    float64\n",
      " 10  slope      297 non-null    int64  \n",
      " 11  ca         297 non-null    int64  \n",
      " 12  thal       297 non-null    int64  \n",
      " 13  condition  297 non-null    int64  \n",
      "dtypes: float64(2), int64(12)\n",
      "memory usage: 32.6 KB\n"
     ]
    }
   ],
   "source": [
    "#Revisamos la información del dataset, comprobando en total si existen datos atipicos o faltantes\n",
    "data.info()"
   ]
  },
  {
   "cell_type": "code",
   "execution_count": 36,
   "id": "193b843e-b0eb-44a5-838d-bed673430f3c",
   "metadata": {},
   "outputs": [
    {
     "data": {
      "text/plain": [
       "condition\n",
       "0    160\n",
       "1    137\n",
       "Name: count, dtype: int64"
      ]
     },
     "execution_count": 36,
     "metadata": {},
     "output_type": "execute_result"
    }
   ],
   "source": [
    "#3.Seleccionar las características más relevantes para entrenar el modelo utilizando selección de características\n",
    "\n",
    "#Características a tomar en cuenta:\n",
    "#La persona tiene una enfermedad cardiaca (0 = no, 1 = si)\n",
    "#Predecir si la persona puede tener una enfermedad cardiaca\n",
    "data['condition'].value_counts()"
   ]
  },
  {
   "cell_type": "code",
   "execution_count": 20,
   "id": "3f79b594-9707-414f-9dd6-90584dc407cc",
   "metadata": {},
   "outputs": [],
   "source": [
    "#4. Dividir el dataset en Train y Test para evaluar correctamente el modelo"
   ]
  },
  {
   "cell_type": "code",
   "execution_count": 40,
   "id": "7a0f8249-794f-4e61-bf22-d6d1cb2bb16b",
   "metadata": {
    "scrolled": true
   },
   "outputs": [
    {
     "name": "stdout",
     "output_type": "stream",
     "text": [
      "     age  sex        cp  trestbps  chol  fbs  restecg  thalach  exang  \\\n",
      "91    62    0  2.000000       130   263    0        0       97      0   \n",
      "115   53    1  2.000000       130   246    1        2      173      0   \n",
      "125   50    0  2.000000       120   219    0        0      158      0   \n",
      "63    41    1  1.000000       135   203    0        0      132      0   \n",
      "159   68    1  3.000000       144   193    1        0      141      0   \n",
      "..   ...  ...       ...       ...   ...  ...      ...      ...    ...   \n",
      "12    59    1  2.158249       134   204    0        0      162      0   \n",
      "235   56    1  3.000000       130   283    1        2      103      1   \n",
      "288   42    1  3.000000       136   315    0        0      125      1   \n",
      "216   58    1  3.000000       128   259    0        2      130      1   \n",
      "263   50    1  3.000000       150   243    0        2      128      0   \n",
      "\n",
      "     oldpeak  slope  ca  thal  \n",
      "91       1.2      1   1     2  \n",
      "115      0.0      0   3     0  \n",
      "125      1.6      1   0     0  \n",
      "63       0.0      1   0     1  \n",
      "159      3.4      1   2     2  \n",
      "..       ...    ...  ..   ...  \n",
      "12       0.8      0   2     0  \n",
      "235      1.6      2   0     2  \n",
      "288      1.8      1   0     1  \n",
      "216      3.0      1   2     2  \n",
      "263      2.6      1   0     2  \n",
      "\n",
      "[237 rows x 13 columns]\n"
     ]
    }
   ],
   "source": [
    "import pandas as pd\n",
    "from sklearn.model_selection import train_test_split\n",
    "\n",
    "# Convertimos a DataFrame\n",
    "df = pd.DataFrame(data)\n",
    "\n",
    "# Preprocesamos los datos, asignando a las variables X y Y la información del entrenamiento\n",
    "X = df.drop('condition', axis=1)  # Variable base en la que predecir\n",
    "y = df['condition']  # Variable objetivo para predecir\n",
    "\n",
    "# Dividimos el dataset en entrenamiento y prueba, usando un 80% para entrenamiento y 20% para prueba\n",
    "X_train, X_test, y_train, y_test = train_test_split(X, y, test_size=0.2, stratify=y, random_state=42)\n",
    "\n",
    "# Mostramos el train X\n",
    "print(X_train)\n"
   ]
  },
  {
   "cell_type": "code",
   "execution_count": 42,
   "id": "1ceee353-827a-4601-8ed7-894e030e2be3",
   "metadata": {},
   "outputs": [
    {
     "name": "stdout",
     "output_type": "stream",
     "text": [
      "91     1\n",
      "115    0\n",
      "125    0\n",
      "63     0\n",
      "159    1\n",
      "      ..\n",
      "12     1\n",
      "235    1\n",
      "288    1\n",
      "216    1\n",
      "263    1\n",
      "Name: condition, Length: 237, dtype: int64\n"
     ]
    }
   ],
   "source": [
    "#Mostramos el train y\n",
    "print (y_train)"
   ]
  },
  {
   "cell_type": "code",
   "execution_count": 94,
   "id": "bf29497b-3806-4d2f-b811-5202f7ea4ff0",
   "metadata": {},
   "outputs": [],
   "source": [
    "#5. Entrenar el modelo configurando los diferentes hiperparámetros"
   ]
  },
  {
   "cell_type": "code",
   "execution_count": 46,
   "id": "90c82e10-0caf-4535-9e6d-8e5a234dfe6f",
   "metadata": {},
   "outputs": [
    {
     "name": "stdout",
     "output_type": "stream",
     "text": [
      "[0 0 0 0 0 0 1 0 1 0 1 0 0 1 1 0 0 0 1 1 0 0 0 0 1 0 0 1 0 1 0 1 1 0 0 1 0\n",
      " 1 0 1 0 1 0 1 0 0 1 0 0 0 0 1 0 0 1 1 0 0 0 1]\n"
     ]
    }
   ],
   "source": [
    "import pandas as pd\n",
    "from sklearn.model_selection import train_test_split\n",
    "from sklearn.linear_model import LogisticRegression  # Importa LogisticRegression\n",
    "\n",
    "# Supongo que ya tienes el dataset cargado como 'data'\n",
    "# Convertimos a DataFrame\n",
    "df = pd.DataFrame(data)\n",
    "\n",
    "# Preprocesamos los datos, asignando a las variables X y Y la información del entrenamiento\n",
    "X = df.drop('condition', axis=1)  # Variable base en la que predecir\n",
    "y = df['condition']  # Variable objetivo para predecir\n",
    "\n",
    "# Dividimos el dataset en entrenamiento y prueba, usando un 80% para entrenamiento y 20% para prueba\n",
    "X_train, X_test, y_train, y_test = train_test_split(X, y, test_size=0.2, stratify=y, random_state=42)\n",
    "\n",
    "# Creamos el modelo de regresión logística \n",
    "model_r = LogisticRegression(solver=\"liblinear\")  # liblinear es una librería para resolver problemas lineales de clasificación y regresión\n",
    "model_r.fit(X_train, y_train)   \n",
    "\n",
    "# Creamos el modelo de predicción\n",
    "pred = model_r.predict(X_test)  # La función predict predice los valores a partir del conjunto de datos de validación\n",
    "\n",
    "# Mostramos las predicciones\n",
    "print(pred)\n"
   ]
  },
  {
   "cell_type": "code",
   "execution_count": 48,
   "id": "52737101-d324-4c4a-8105-8f097e8bebb3",
   "metadata": {},
   "outputs": [
    {
     "name": "stdout",
     "output_type": "stream",
     "text": [
      "295    0\n",
      "215    0\n",
      "66     0\n",
      "77     0\n",
      "53     0\n",
      "249    0\n",
      "28     1\n",
      "188    0\n",
      "126    1\n",
      "141    0\n",
      "224    1\n",
      "121    0\n",
      "29     0\n",
      "167    1\n",
      "103    1\n",
      "292    1\n",
      "10     1\n",
      "20     0\n",
      "100    1\n",
      "294    1\n",
      "95     0\n",
      "191    0\n",
      "267    1\n",
      "150    0\n",
      "273    1\n",
      "272    0\n",
      "137    0\n",
      "247    1\n",
      "1      0\n",
      "192    1\n",
      "83     0\n",
      "270    1\n",
      "242    1\n",
      "284    0\n",
      "73     0\n",
      "208    1\n",
      "116    0\n",
      "217    1\n",
      "135    0\n",
      "244    1\n",
      "68     0\n",
      "228    1\n",
      "3      1\n",
      "202    1\n",
      "101    0\n",
      "64     0\n",
      "274    1\n",
      "117    0\n",
      "281    1\n",
      "131    0\n",
      "156    0\n",
      "200    1\n",
      "140    0\n",
      "30     0\n",
      "236    1\n",
      "264    1\n",
      "205    1\n",
      "70     0\n",
      "287    0\n",
      "260    1\n",
      "Name: condition, dtype: int64\n"
     ]
    }
   ],
   "source": [
    "#Mostramos la prueba y\n",
    "print (y_test)"
   ]
  },
  {
   "cell_type": "code",
   "execution_count": 50,
   "id": "2be403c7-fd4b-48b8-a36a-8141967e4eb6",
   "metadata": {},
   "outputs": [
    {
     "name": "stdout",
     "output_type": "stream",
     "text": [
      "[0 0 0 0 0 0 1 0 1 0 1 0 0 1 1 0 0 0 1 1 0 0 0 0 1 0 0 1 0 1 0 1 1 0 0 1 0\n",
      " 1 0 1 0 1 0 1 0 0 1 0 0 0 0 1 0 0 1 1 0 0 0 1]\n"
     ]
    }
   ],
   "source": [
    "#Mostramos la predicción\n",
    "print (pred)"
   ]
  },
  {
   "cell_type": "code",
   "execution_count": 106,
   "id": "34b40d6d-f90a-495a-8c13-5dc22d5c78d4",
   "metadata": {},
   "outputs": [],
   "source": [
    "#6.Evaluar el desempeño del modelo en el conjunto de Test con métricas como precisión, recall, F1-score, etc."
   ]
  },
  {
   "cell_type": "code",
   "execution_count": 128,
   "id": "25854ea6-7f18-4662-b646-784139e12348",
   "metadata": {},
   "outputs": [
    {
     "name": "stdout",
     "output_type": "stream",
     "text": [
      "              precision    recall  f1-score   support\n",
      "\n",
      "           0       0.84      1.00      0.91        32\n",
      "           1       1.00      0.79      0.88        28\n",
      "\n",
      "    accuracy                           0.90        60\n",
      "   macro avg       0.92      0.89      0.90        60\n",
      "weighted avg       0.92      0.90      0.90        60\n",
      "\n"
     ]
    }
   ],
   "source": [
    "#Comprobamos el desempeño del modelo de regresión\n",
    "print(classification_report(y_test,pred))"
   ]
  },
  {
   "cell_type": "code",
   "execution_count": 110,
   "id": "36927316-86f7-45d3-8345-ff38897d1ddf",
   "metadata": {},
   "outputs": [],
   "source": [
    "#7.Realizar las diferentes gráficas que permitan visualizar los resultados del modelo."
   ]
  },
  {
   "cell_type": "code",
   "execution_count": 56,
   "id": "db296484-8971-4f43-9f6a-8871703f679d",
   "metadata": {},
   "outputs": [
    {
     "data": {
      "image/png": "[encoded data removed]",
      "text/plain": [
       "<Figure size 640x480 with 2 Axes>"
      ]
     },
     "metadata": {},
     "output_type": "display_data"
    }
   ],
   "source": [
    "import pandas as pd\n",
    "from sklearn.model_selection import train_test_split\n",
    "from sklearn.linear_model import LogisticRegression\n",
    "from sklearn.metrics import confusion_matrix, ConfusionMatrixDisplay\n",
    "import matplotlib.pyplot as plt\n",
    "\n",
    "# Supongo que ya tienes el dataset cargado como 'data'\n",
    "# Convertimos a DataFrame\n",
    "df = pd.DataFrame(data)\n",
    "\n",
    "# Preparamos los datos\n",
    "X = df.drop('condition', axis=1)\n",
    "y = df['condition']\n",
    "\n",
    "# Dividimos el dataset\n",
    "X_train, X_test, y_train, y_test = train_test_split(X, y, test_size=0.2, stratify=y, random_state=42)\n",
    "\n",
    "# Creamos y entrenamos el modelo\n",
    "model_r = LogisticRegression(solver=\"liblinear\")\n",
    "model_r.fit(X_train, y_train)\n",
    "\n",
    "# Hacemos predicciones\n",
    "pred = model_r.predict(X_test)\n",
    "\n",
    "# Creamos la matriz de confusión\n",
    "cm = confusion_matrix(y_test, pred)\n",
    "disp = ConfusionMatrixDisplay(confusion_matrix=cm)\n",
    "disp.plot()\n",
    "plt.title(\"Matriz de Confusión\")  # Título opcional\n",
    "plt.show()  # Muestra el gráfico\n"
   ]
  },
  {
   "cell_type": "code",
   "execution_count": 58,
   "id": "1c0110ae-4ca9-4f09-9bb7-4e0dc6749aa5",
   "metadata": {},
   "outputs": [
    {
     "data": {
      "image/png": "[encoded data removed]",
      "text/plain": [
       "<Figure size 640x480 with 1 Axes>"
      ]
     },
     "metadata": {},
     "output_type": "display_data"
    }
   ],
   "source": [
    "#Comprobamos la curva de precisón del modelo\n",
    "from sklearn.metrics import RocCurveDisplay\n",
    "RocCurveDisplay.from_predictions(y_test, pred)\n",
    "plt.show()"
   ]
  },
  {
   "cell_type": "code",
   "execution_count": 116,
   "id": "9aca6578-d603-4149-9a1f-e3db55eece53",
   "metadata": {},
   "outputs": [],
   "source": [
    "#8.Interpretar, analizar y documentar los resultados obtenidos."
   ]
  },
  {
   "cell_type": "code",
   "execution_count": 134,
   "id": "675ddb6a-26f7-472e-9241-f017abd94a9c",
   "metadata": {},
   "outputs": [],
   "source": [
    "#Análisis de resultados\n",
    "#Al evaluar los resultados, considera lo siguiente:\n",
    "\n",
    "# Interpretación del Gráfico ROC\n",
    "\n",
    "# 1. Ejes del Gráfico:\n",
    "# - En el eje X, se encuentra la Tasa de Falsos Positivos, \n",
    "#   que representa la proporción de negativos que han sido clasificados incorrectamente como positivos.\n",
    "# - En el eje Y, está la Tasa de Verdaderos Positivos, \n",
    "#   que muestra la proporción de positivos que han sido identificados correctamente.\n",
    "\n",
    "# 2. Curva ROC:\n",
    "# - La línea que aparece en el gráfico representa la curva ROC (Receiver Operating Characteristic). \n",
    "#   Esta curva ilustra el rendimiento del clasificador a medida que se ajusta el umbral de decisión.\n",
    "# - Una curva ideal se acercaría a la esquina superior izquierda del gráfico, \n",
    "#   indicando una alta tasa de verdaderos positivos y una baja tasa de falsos positivos.\n",
    "\n",
    "# 3. AUC (Área Bajo la Curva):\n",
    "# - El valor de AUC (Area Under the Curve) es 0.89, \n",
    "#   lo que indica que el clasificador tiene un buen rendimiento. \n",
    "#   Un AUC de 1.0 sería un clasificador perfecto, \n",
    "#   mientras que 0.5 indicaría que el clasificador no es mejor que el azar.\n",
    "# - Con un AUC de 0.89, se puede concluir que el modelo tiene una buena capacidad \n",
    "#   para distinguir entre las clases positivas y negativas.\n",
    "\n",
    "# Conclusión:\n",
    "# En resumen, el clasificador que estoy analizando es efectivo, \n",
    "# ya que presenta una alta tasa de verdaderos positivos con una baja tasa de falsos positivos. \n",
    "# Esto sugiere que puedo confiar en mi modelo para predecir la clase positiva en la mayoría de los casos"
   ]
  }
 ],
 "metadata": {
  "kernelspec": {
   "display_name": "Python 3 (ipykernel)",
   "language": "python",
   "name": "python3"
  },
  "language_info": {
   "codemirror_mode": {
    "name": "ipython",
    "version": 3
   },
   "file_extension": ".py",
   "mimetype": "text/x-python",
   "name": "python",
   "nbconvert_exporter": "python",
   "pygments_lexer": "ipython3",
   "version": "3.12.7"
  }
 },
 "nbformat": 4,
 "nbformat_minor": 5
}
